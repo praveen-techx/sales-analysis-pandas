{
 "cells": [
  {
   "cell_type": "markdown",
   "id": "bc1efaed",
   "metadata": {},
   "source": [
    "# 📊 Python Project: Advanced Sales Analysis using Pandas"
   ]
  },
  {
   "cell_type": "markdown",
   "id": "c7ec3e67",
   "metadata": {},
   "source": [
    "\n",
    "This project analyzes an e-commerce sales dataset to derive insights using the `pandas` library.\n",
    "\n",
    "**Dataset columns**:\n",
    "- `OrderID`: Unique ID of the order\n",
    "- `CustomerName`: Name of the customer\n",
    "- `Category`: Product category\n",
    "- `Amount`: Value of the order\n",
    "- `Rating`: Customer rating (1–5)\n",
    "- `OrderDate`: Date the order was placed\n"
   ]
  },
  {
   "cell_type": "markdown",
   "id": "0e806623",
   "metadata": {},
   "source": [
    "## Step 1: Load the CSV File"
   ]
  },
  {
   "cell_type": "code",
   "execution_count": null,
   "id": "64c1deb0",
   "metadata": {},
   "outputs": [],
   "source": [
    "import pandas as pd\n",
    "\n",
    "df = pd.read_csv('sales_data.csv')\n",
    "df.head()"
   ]
  },
  {
   "cell_type": "markdown",
   "id": "ead5ecdc",
   "metadata": {},
   "source": [
    "## Step 2: Explore the Dataset"
   ]
  },
  {
   "cell_type": "code",
   "execution_count": null,
   "id": "5cb86140",
   "metadata": {},
   "outputs": [],
   "source": [
    "df.info()"
   ]
  },
  {
   "cell_type": "code",
   "execution_count": null,
   "id": "f25c9be5",
   "metadata": {},
   "outputs": [],
   "source": [
    "df.describe()"
   ]
  },
  {
   "cell_type": "markdown",
   "id": "5da59297",
   "metadata": {},
   "source": [
    "## Q1: What is the total revenue?"
   ]
  },
  {
   "cell_type": "code",
   "execution_count": null,
   "id": "cd4e2aa6",
   "metadata": {},
   "outputs": [],
   "source": [
    "total_revenue = df['Amount'].sum()\n",
    "print('Total Revenue:', total_revenue)"
   ]
  },
  {
   "cell_type": "markdown",
   "id": "d2865aae",
   "metadata": {},
   "source": [
    "## Q2: Which category generated the highest revenue?"
   ]
  },
  {
   "cell_type": "code",
   "execution_count": null,
   "id": "a5f256d6",
   "metadata": {},
   "outputs": [],
   "source": [
    "df.groupby('Category')['Amount'].sum().sort_values(ascending=False)"
   ]
  },
  {
   "cell_type": "markdown",
   "id": "743650a4",
   "metadata": {},
   "source": [
    "## Q3: What is the average rating per category?"
   ]
  },
  {
   "cell_type": "code",
   "execution_count": null,
   "id": "4e5bcbd8",
   "metadata": {},
   "outputs": [],
   "source": [
    "df.groupby('Category')['Rating'].mean().sort_values(ascending=False)"
   ]
  },
  {
   "cell_type": "markdown",
   "id": "b623a914",
   "metadata": {},
   "source": [
    "## Q4: Monthly revenue trends"
   ]
  },
  {
   "cell_type": "code",
   "execution_count": null,
   "id": "cdfebd1c",
   "metadata": {},
   "outputs": [],
   "source": [
    "\n",
    "df['OrderDate'] = pd.to_datetime(df['OrderDate'])\n",
    "df['Month'] = df['OrderDate'].dt.to_period('M')\n",
    "df.groupby('Month')['Amount'].sum()\n"
   ]
  },
  {
   "cell_type": "markdown",
   "id": "082287c5",
   "metadata": {},
   "source": [
    "## Q5: Top 5 customers by total spend"
   ]
  },
  {
   "cell_type": "code",
   "execution_count": null,
   "id": "83aa4616",
   "metadata": {},
   "outputs": [],
   "source": [
    "df.groupby('CustomerName')['Amount'].sum().sort_values(ascending=False).head(5)"
   ]
  },
  {
   "cell_type": "markdown",
   "id": "b04f9bd9",
   "metadata": {},
   "source": [
    "## Q6: How many orders received a perfect 5-star rating?"
   ]
  },
  {
   "cell_type": "code",
   "execution_count": null,
   "id": "101c5e2c",
   "metadata": {},
   "outputs": [],
   "source": [
    "df[df['Rating'] == 5].shape[0]"
   ]
  },
  {
   "cell_type": "markdown",
   "id": "bd4f8df7",
   "metadata": {},
   "source": [
    "## Q7: Average order amount per category"
   ]
  },
  {
   "cell_type": "code",
   "execution_count": null,
   "id": "70cb4431",
   "metadata": {},
   "outputs": [],
   "source": [
    "df.groupby('Category')['Amount'].mean().sort_values(ascending=False)"
   ]
  },
  {
   "cell_type": "markdown",
   "id": "373f3854",
   "metadata": {},
   "source": [
    "## ✅ Summary\n",
    "This project demonstrated how to use Python and Pandas to extract insights from an e-commerce dataset without using input/output or complex data structures."
   ]
  },
  {
   "cell_type": "markdown",
   "id": "0c4507b1",
   "metadata": {},
   "source": [
    "## Q8: Number of orders per category"
   ]
  },
  {
   "cell_type": "code",
   "execution_count": null,
   "id": "1dea3a07",
   "metadata": {},
   "outputs": [],
   "source": [
    "df['Category'].value_counts()"
   ]
  },
  {
   "cell_type": "markdown",
   "id": "3c91fb70",
   "metadata": {},
   "source": [
    "## Q9: Which day had the highest total sales?"
   ]
  },
  {
   "cell_type": "code",
   "execution_count": null,
   "id": "77218f63",
   "metadata": {},
   "outputs": [],
   "source": [
    "df.groupby('OrderDate')['Amount'].sum().sort_values(ascending=False).head(1)"
   ]
  },
  {
   "cell_type": "markdown",
   "id": "752a766d",
   "metadata": {},
   "source": [
    "## Q10: How many unique customers placed orders?"
   ]
  },
  {
   "cell_type": "code",
   "execution_count": null,
   "id": "8e7a57d7",
   "metadata": {},
   "outputs": [],
   "source": [
    "df['CustomerName'].nunique()"
   ]
  },
  {
   "cell_type": "markdown",
   "id": "60d453ef",
   "metadata": {},
   "source": [
    "## Q11: What is the most frequent rating given by customers?"
   ]
  },
  {
   "cell_type": "code",
   "execution_count": null,
   "id": "4585ba7b",
   "metadata": {},
   "outputs": [],
   "source": [
    "df['Rating'].mode()[0]"
   ]
  },
  {
   "cell_type": "markdown",
   "id": "1768d54c",
   "metadata": {},
   "source": [
    "## Q12: What is the total revenue per rating score?"
   ]
  },
  {
   "cell_type": "code",
   "execution_count": null,
   "id": "650a4c2c",
   "metadata": {},
   "outputs": [],
   "source": [
    "df.groupby('Rating')['Amount'].sum().sort_index(ascending=False)"
   ]
  },
  {
   "cell_type": "markdown",
   "id": "b88f3741",
   "metadata": {},
   "source": [
    "## Q13: Which customer gave the most 5-star ratings?"
   ]
  },
  {
   "cell_type": "code",
   "execution_count": null,
   "id": "9cb7d462",
   "metadata": {},
   "outputs": [],
   "source": [
    "df[df['Rating'] == 5]['CustomerName'].value_counts().head(1)"
   ]
  },
  {
   "cell_type": "markdown",
   "id": "4efa9cbc",
   "metadata": {},
   "source": [
    "## Q14: What is the average revenue per order by month?"
   ]
  },
  {
   "cell_type": "code",
   "execution_count": null,
   "id": "7e000d2b",
   "metadata": {},
   "outputs": [],
   "source": [
    "df.groupby('Month')['Amount'].mean().round(2)"
   ]
  },
  {
   "cell_type": "markdown",
   "id": "df886b6f",
   "metadata": {},
   "source": [
    "## Q15: What is the revenue contributed by the top 10% of customers?"
   ]
  },
  {
   "cell_type": "code",
   "execution_count": null,
   "id": "df5abdb9",
   "metadata": {},
   "outputs": [],
   "source": [
    "\n",
    "customer_revenue = df.groupby('CustomerName')['Amount'].sum().sort_values(ascending=False)\n",
    "top_10_percent = int(0.1 * len(customer_revenue))\n",
    "customer_revenue.head(top_10_percent).sum()\n"
   ]
  },
  {
   "cell_type": "markdown",
   "id": "29d208eb",
   "metadata": {},
   "source": [
    "## Q16: Which customers placed more than 3 orders?"
   ]
  },
  {
   "cell_type": "code",
   "execution_count": null,
   "id": "39c9e714",
   "metadata": {},
   "outputs": [],
   "source": [
    "df['CustomerName'].value_counts()[df['CustomerName'].value_counts() > 3]"
   ]
  },
  {
   "cell_type": "markdown",
   "id": "4ef4782d",
   "metadata": {},
   "source": [
    "## Q17: What is the average rating across all orders?"
   ]
  },
  {
   "cell_type": "code",
   "execution_count": null,
   "id": "6e22ad2d",
   "metadata": {},
   "outputs": [],
   "source": [
    "df['Rating'].mean().round(2)"
   ]
  },
  {
   "cell_type": "markdown",
   "id": "8004569d-0137-4901-a992-0b621c3badf6",
   "metadata": {},
   "source": [
    "## Q18: Category with highest avg order value"
   ]
  },
  {
   "cell_type": "code",
   "execution_count": null,
   "id": "487d5a0e-2aa6-4616-a661-507eeb7b9143",
   "metadata": {},
   "outputs": [],
   "source": [
    "df.groupby('Category')['Amount'].mean().sort_values(ascending=False).head(1)"
   ]
  },
  {
   "cell_type": "code",
   "execution_count": null,
   "id": "82ba06cb-311d-4c46-bb43-74c9cd0de1b4",
   "metadata": {},
   "outputs": [],
   "source": []
  },
  {
   "cell_type": "markdown",
   "id": "8392780e-eafa-4ce5-81fa-2a0f2f92bf2d",
   "metadata": {},
   "source": [
    "## Q19: Revenue % by category"
   ]
  },
  {
   "cell_type": "code",
   "execution_count": null,
   "id": "231ff4bc-447c-41b6-8e7c-d2aced126bf9",
   "metadata": {},
   "outputs": [],
   "source": [
    "(df.groupby('Category')['Amount'].sum() / df['Amount'].sum() * 100).round(2)"
   ]
  },
  {
   "cell_type": "markdown",
   "id": "df9739bd-d84b-4cf8-8cbe-1a5a32225934",
   "metadata": {},
   "source": [
    "## Q20: Category with most 5-star ratings"
   ]
  },
  {
   "cell_type": "code",
   "execution_count": null,
   "id": "9f1bdfe5-2ff0-496f-8777-1d303b7e552f",
   "metadata": {},
   "outputs": [],
   "source": [
    "df[df['Rating'] == 5]['Category'].value_counts().head(1)"
   ]
  },
  {
   "cell_type": "markdown",
   "id": "fb1572aa-35ba-45bb-8687-b7c79a5a55ae",
   "metadata": {},
   "source": [
    "## Q21: Month with highest avg rating"
   ]
  },
  {
   "cell_type": "code",
   "execution_count": null,
   "id": "921e2786-80e8-47cc-b75d-437ae91bf8ec",
   "metadata": {},
   "outputs": [],
   "source": [
    "df.groupby('Month')['Rating'].mean().sort_values(ascending=False).head(1)"
   ]
  },
  {
   "cell_type": "markdown",
   "id": "af1aacaf-2a4e-4ec1-90d3-2719e9ca9ddc",
   "metadata": {},
   "source": [
    "## Q22: Customer with highest avg order value"
   ]
  },
  {
   "cell_type": "code",
   "execution_count": null,
   "id": "26de8dc7-0192-4e37-bbb5-f902020d4ad3",
   "metadata": {},
   "outputs": [],
   "source": [
    "df.groupby('CustomerName')['Amount'].mean().sort_values(ascending=False).head(1)"
   ]
  },
  {
   "cell_type": "markdown",
   "id": "fe167285-ad29-4a16-8ce7-1a11d7bf7141",
   "metadata": {},
   "source": [
    "## Q23: Month-over-month revenue growth"
   ]
  },
  {
   "cell_type": "code",
   "execution_count": null,
   "id": "8eae193f-07d7-4ec6-8bab-3dad6b568c64",
   "metadata": {},
   "outputs": [],
   "source": [
    "monthly_rev = df.groupby('Month')['Amount'].sum()\n",
    "monthly_rev.pct_change().round(2)"
   ]
  },
  {
   "cell_type": "markdown",
   "id": "6b18d9ff-4d33-4cdc-9d16-ff33fcab8039",
   "metadata": {},
   "source": [
    "## Q24: Customers who gave 1-star and 5-star"
   ]
  },
  {
   "cell_type": "code",
   "execution_count": null,
   "id": "ce14425d-6ac4-4bc8-aee3-735b98409125",
   "metadata": {},
   "outputs": [],
   "source": [
    "set(df[df['Rating']==1]['CustomerName']) & set(df[df['Rating']==5]['CustomerName'])"
   ]
  },
  {
   "cell_type": "markdown",
   "id": "a35f28f8-5fae-4ed0-960f-a9be6e1dfb59",
   "metadata": {},
   "source": [
    "## Q25: Avg order value for 5-star ratings"
   ]
  },
  {
   "cell_type": "code",
   "execution_count": null,
   "id": "49385253-4420-4d7d-b3da-8e779c8c67a6",
   "metadata": {},
   "outputs": [],
   "source": [
    "df[df['Rating'] == 5]['Amount'].mean().round(2)"
   ]
  },
  {
   "cell_type": "markdown",
   "id": "a3e482bf-e8c5-4837-8e53-cacfa02b4f5b",
   "metadata": {},
   "source": [
    "## Q26: Customers who always rated >= 4"
   ]
  },
  {
   "cell_type": "code",
   "execution_count": null,
   "id": "b22d70df-74d9-4f94-b13d-14d5ac66dced",
   "metadata": {},
   "outputs": [],
   "source": [
    "df.groupby('CustomerName')['Rating'].min()[df.groupby('CustomerName')['Rating'].min() >= 4]"
   ]
  },
  {
   "cell_type": "markdown",
   "id": "c7f79fd8-4f80-465b-a4c0-4465360425d2",
   "metadata": {},
   "source": [
    "## Q27: Std. deviation of amount by category"
   ]
  },
  {
   "cell_type": "code",
   "execution_count": null,
   "id": "b1f878c6-9af7-4a6f-b1f0-31b732bf5fe5",
   "metadata": {},
   "outputs": [],
   "source": [
    "df.groupby('Category')['Amount'].std().round(2)"
   ]
  },
  {
   "cell_type": "markdown",
   "id": "bc2eaae6-94cb-4d77-bd91-9bf70ffaa3f1",
   "metadata": {},
   "source": [
    "## Q28: Month with highest revenue growth"
   ]
  },
  {
   "cell_type": "code",
   "execution_count": null,
   "id": "4a2698cc-e1af-45ab-947c-624ec58d5454",
   "metadata": {},
   "outputs": [],
   "source": [
    "monthly_rev = df.groupby('Month')['Amount'].sum()\n",
    "monthly_rev.pct_change().sort_values(ascending=False).head(1)"
   ]
  },
  {
   "cell_type": "markdown",
   "id": "ded0040b-d2cd-4da3-bb26-dd1ffc896668",
   "metadata": {},
   "source": [
    "## Q29: Category with lowest avg rating"
   ]
  },
  {
   "cell_type": "code",
   "execution_count": null,
   "id": "dfee0e5c-7c80-4fb1-a200-9c1f31b605c4",
   "metadata": {},
   "outputs": [],
   "source": [
    "df.groupby('Category')['Rating'].mean().sort_values().head(1)"
   ]
  },
  {
   "cell_type": "markdown",
   "id": "6a796cda-c29b-4d90-9e0d-676e5a4c6723",
   "metadata": {},
   "source": [
    "## Q30: High-value but poorly rated orders"
   ]
  },
  {
   "cell_type": "code",
   "execution_count": null,
   "id": "d5500eb3-ccd7-4aae-a97c-c631bc82ef65",
   "metadata": {},
   "outputs": [],
   "source": [
    "df[(df['Amount'] > 900) & (df['Rating'] <= 2)]"
   ]
  }
 ],
 "metadata": {
  "kernelspec": {
   "display_name": "Python 3 (ipykernel)",
   "language": "python",
   "name": "python3"
  },
  "language_info": {
   "codemirror_mode": {
    "name": "ipython",
    "version": 3
   },
   "file_extension": ".py",
   "mimetype": "text/x-python",
   "name": "python",
   "nbconvert_exporter": "python",
   "pygments_lexer": "ipython3",
   "version": "3.13.2"
  }
 },
 "nbformat": 4,
 "nbformat_minor": 5
}
